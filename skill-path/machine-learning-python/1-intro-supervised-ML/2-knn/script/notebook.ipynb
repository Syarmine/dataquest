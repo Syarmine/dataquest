{
 "cells": [
  {
   "cell_type": "markdown",
   "metadata": {},
   "source": [
    "## Introduction to K-Nearest Neighbors\n",
    "\n",
    "The following is the machine learning workflow from the previous lesson.\n",
    "\n",
    "![Supervised Machine Learning Workflow](../images/1.1-m737.svg)"
   ]
  },
  {
   "cell_type": "code",
   "execution_count": 1,
   "metadata": {},
   "outputs": [],
   "source": [
    "# import neccessary libraries\n",
    "\n",
    "import pandas as pd"
   ]
  },
  {
   "cell_type": "markdown",
   "metadata": {},
   "source": [
    "## Data Exploration"
   ]
  },
  {
   "cell_type": "code",
   "execution_count": 8,
   "metadata": {},
   "outputs": [
    {
     "name": "stdout",
     "output_type": "stream",
     "text": [
      "   age          job   marital    education  default housing loan    contact  \\\n",
      "0   40       admin.   married     basic.6y       no      no   no  telephone   \n",
      "1   56     services   married  high.school       no      no  yes  telephone   \n",
      "2   41  blue-collar   married      unknown  unknown      no   no  telephone   \n",
      "3   57    housemaid  divorced     basic.4y       no     yes   no  telephone   \n",
      "4   39   management    single     basic.9y  unknown      no   no  telephone   \n",
      "\n",
      "  month day_of_week  ...  campaign  pdays  previous     poutcome emp.var.rate  \\\n",
      "0   may         mon  ...         1    999         0  nonexistent          1.1   \n",
      "1   may         mon  ...         1    999         0  nonexistent          1.1   \n",
      "2   may         mon  ...         1    999         0  nonexistent          1.1   \n",
      "3   may         mon  ...         1    999         0  nonexistent          1.1   \n",
      "4   may         mon  ...         1    999         0  nonexistent          1.1   \n",
      "\n",
      "   cons.price.idx  cons.conf.idx  euribor3m  nr.employed   y  \n",
      "0          93.994          -36.4      4.857       5191.0  no  \n",
      "1          93.994          -36.4      4.857       5191.0  no  \n",
      "2          93.994          -36.4      4.857       5191.0  no  \n",
      "3          93.994          -36.4      4.857       5191.0  no  \n",
      "4          93.994          -36.4      4.857       5191.0  no  \n",
      "\n",
      "[5 rows x 21 columns]\n",
      "object     11\n",
      "int64       5\n",
      "float64     5\n",
      "Name: count, dtype: int64\n"
     ]
    }
   ],
   "source": [
    "# explore the dataset\n",
    "banking_df = pd.read_csv(\"../data/subscription_prediction.csv\")\n",
    "\n",
    "# print the first few observations\n",
    "print(banking_df.head())\n",
    "\n",
    "# print the number of features and observations\n",
    "print(banking_df.dtypes.value_counts())\n",
    "\n"
   ]
  },
  {
   "cell_type": "code",
   "execution_count": 12,
   "metadata": {},
   "outputs": [
    {
     "name": "stdout",
     "output_type": "stream",
     "text": [
      "Shape of the dataset: (10122, 21)\n",
      "age               0\n",
      "job               0\n",
      "marital           0\n",
      "education         0\n",
      "default           0\n",
      "housing           0\n",
      "loan              0\n",
      "contact           0\n",
      "month             0\n",
      "day_of_week       0\n",
      "duration          0\n",
      "campaign          0\n",
      "pdays             0\n",
      "previous          0\n",
      "poutcome          0\n",
      "emp.var.rate      0\n",
      "cons.price.idx    0\n",
      "cons.conf.idx     0\n",
      "euribor3m         0\n",
      "nr.employed       0\n",
      "y                 0\n",
      "dtype: int64\n"
     ]
    }
   ],
   "source": [
    "# print the shape of the dataset\n",
    "print(f\"Shape of the dataset: {banking_df.shape}\")\n",
    "\n",
    "# print the number of missing values in each column\n",
    "print(banking_df.isna().sum())\n",
    "\n"
   ]
  },
  {
   "cell_type": "code",
   "execution_count": 13,
   "metadata": {},
   "outputs": [
    {
     "name": "stdout",
     "output_type": "stream",
     "text": [
      "y\n",
      "no     5482\n",
      "yes    4640\n",
      "Name: count, dtype: int64\n",
      "                age      duration      campaign         pdays      previous  \\\n",
      "count  10122.000000  10122.000000  10122.000000  10122.000000  10122.000000   \n",
      "mean      40.313673    373.414049      2.369789    896.476882      0.297471   \n",
      "std       11.855014    353.277755      2.472392    302.175859      0.680535   \n",
      "min       17.000000      0.000000      1.000000      0.000000      0.000000   \n",
      "25%       31.000000    140.000000      1.000000    999.000000      0.000000   \n",
      "50%       38.000000    252.000000      2.000000    999.000000      0.000000   \n",
      "75%       48.000000    498.000000      3.000000    999.000000      0.000000   \n",
      "max       98.000000   4199.000000     42.000000    999.000000      6.000000   \n",
      "\n",
      "       emp.var.rate  cons.price.idx  cons.conf.idx     euribor3m   nr.employed  \n",
      "count  10122.000000    10122.000000   10122.000000  10122.000000  10122.000000  \n",
      "mean      -0.432671       93.492407     -40.250573      3.035134   5138.838975  \n",
      "std        1.714657        0.628615       5.271326      1.884191     85.859595  \n",
      "min       -3.400000       92.201000     -50.800000      0.634000   4963.600000  \n",
      "25%       -1.800000       92.963000     -42.700000      1.252000   5076.200000  \n",
      "50%       -0.100000       93.444000     -41.800000      4.076000   5191.000000  \n",
      "75%        1.400000       93.994000     -36.400000      4.959000   5228.100000  \n",
      "max        1.400000       94.767000     -26.900000      5.045000   5228.100000  \n"
     ]
    }
   ],
   "source": [
    "\n",
    "# print the number of customers who subscribed to the term deposit and the number of customers who didn't\n",
    "print(banking_df[\"y\"].value_counts())\n",
    "\n",
    "# print the summary statistics for the dataset\n",
    "print(banking_df.describe())"
   ]
  },
  {
   "cell_type": "markdown",
   "metadata": {},
   "source": [
    "## Data Preparation"
   ]
  },
  {
   "cell_type": "code",
   "execution_count": 14,
   "metadata": {},
   "outputs": [
    {
     "name": "stdout",
     "output_type": "stream",
     "text": [
      "y\n",
      "0    0.540098\n",
      "1    0.459902\n",
      "Name: proportion, dtype: float64\n",
      "y\n",
      "0    0.550066\n",
      "1    0.449934\n",
      "Name: proportion, dtype: float64\n"
     ]
    }
   ],
   "source": [
    "# convert the target variable to binary\n",
    "banking_df[\"y\"] = banking_df[\"y\"].apply(lambda x: 1 if x==\"yes\" else 0)\n",
    "\n",
    "# split the dataset into training and testing sets\n",
    "train_df = banking_df.sample(frac=0.85, random_state=417)\n",
    "test_df = banking_df.drop(train_df.index)\n",
    "\n",
    "# print the proportion of customers who subscribed to the term deposit in the training and testing sets\n",
    "print(train_df[\"y\"].value_counts(normalize=True))\n",
    "print(test_df[\"y\"].value_counts(normalize=True))\n",
    "\n",
    "# drop the target variable from the training and testing sets\n",
    "X_train = train_df.drop(\"y\", axis=1)\n",
    "y_train = train_df[\"y\"]\n",
    "\n",
    "# drop the target variable from the testing set\n",
    "X_test = test_df.drop(\"y\", axis=1)\n",
    "y_test = test_df[\"y\"]"
   ]
  },
  {
   "cell_type": "markdown",
   "metadata": {},
   "source": [
    "## KNN One Feature\n"
   ]
  },
  {
   "cell_type": "code",
   "execution_count": 16,
   "metadata": {},
   "outputs": [
    {
     "name": "stdout",
     "output_type": "stream",
     "text": [
      "Predicted label: 0\n",
      "Actual label: 0\n"
     ]
    }
   ],
   "source": [
    "# KNN Algorithm\n",
    "def knn(feature, single_test_input, k):\n",
    "    X_train[\"distance\"] = abs(X_train[feature] - single_test_input[feature])\n",
    "    prediction = y_train[X_train[\"distance\"].nsmallest(n=k).index].mode()[0]\n",
    "    return prediction\n",
    "\n",
    "model_prediction = knn(\"age\", X_test.iloc[417], 3)\n",
    "print(f\"Predicted label: {model_prediction}\")\n",
    "print(f\"Actual label: {y_test.iloc[417]}\")"
   ]
  },
  {
   "cell_type": "markdown",
   "metadata": {},
   "source": [
    "## Evaluating The Model"
   ]
  },
  {
   "cell_type": "code",
   "execution_count": 17,
   "metadata": {},
   "outputs": [
    {
     "name": "stdout",
     "output_type": "stream",
     "text": [
      "Accuracy of model trained on the column 'age': 53.89%\n",
      "Accuracy of model trained on the column 'campaign': 55.14%\n"
     ]
    }
   ],
   "source": [
    "# Predicting the label for the test set using the KNN algorithm\n",
    "X_test[\"age_predicted_y\"] = X_test.apply(lambda x: knn(\"age\", x, 3), axis=1)\n",
    "\n",
    "# Calculating the accuracy of the model\n",
    "model_accuracy = (X_test[\"age_predicted_y\"] == y_test).value_counts(normalize=True)[True]*100\n",
    "print(f\"Accuracy of model trained on the column 'age': {model_accuracy:.2f}%\")\n",
    "\n",
    "# Predicting the label for the test set using the KNN algorithm\n",
    "X_test[\"campaign_predicted_y\"] = X_test.apply(lambda x: knn(\"campaign\", x, 3), axis=1)\n",
    "\n",
    "# Calculating the accuracy of the model\n",
    "model_accuracy = (X_test[\"campaign_predicted_y\"] == y_test).value_counts(normalize=True)[True]*100\n",
    "print(f\"Accuracy of model trained on the column 'campaign': {model_accuracy:.2f}%\")"
   ]
  },
  {
   "cell_type": "markdown",
   "metadata": {},
   "source": [
    "## Feature Engineering\n"
   ]
  },
  {
   "cell_type": "code",
   "execution_count": 31,
   "metadata": {},
   "outputs": [],
   "source": [
    "# Create dummy variables for the marital column\n",
    "\n",
    "banking_df_copy = banking_df.copy()\n",
    "banking_df_copy = pd.get_dummies(data = banking_df_copy, columns = [\"marital\"], drop_first = True)"
   ]
  },
  {
   "cell_type": "code",
   "execution_count": 46,
   "metadata": {},
   "outputs": [
    {
     "name": "stdout",
     "output_type": "stream",
     "text": [
      "Accuracy of the model: 55.14%\n"
     ]
    }
   ],
   "source": [
    "\n",
    "# KNN with different data types\n",
    "def knn(features, single_test_input, k):\n",
    "    squared_distance = 0\n",
    "    for feature in features:\n",
    "        # For numeric features, use subtraction\n",
    "        if X_train[feature].dtype in ['int64', 'float64']:\n",
    "            squared_distance += (X_train[feature] - single_test_input[feature])**2\n",
    "        # For boolean/categorical features, use equality comparison\n",
    "        else:\n",
    "            squared_distance += (X_train[feature] != single_test_input[feature]).astype(int)\n",
    "    \n",
    "    X_train[\"distance\"] = squared_distance**0.5\n",
    "    prediction = y_train[X_train[\"distance\"].nsmallest(n=k).index].mode()[0]\n",
    "    return prediction\n",
    "\n",
    "print(f\"Accuracy of the model: {model_accuracy:.2f}%\")"
   ]
  },
  {
   "cell_type": "code",
   "execution_count": 47,
   "metadata": {},
   "outputs": [
    {
     "name": "stdout",
     "output_type": "stream",
     "text": [
      "Accuracy of the model: 55.14%\n"
     ]
    }
   ],
   "source": [
    "def knn(features, test_input, k):\n",
    "    # Initialize distance as 0\n",
    "    distance = 0\n",
    "    # Calculate Euclidean distance for each feature\n",
    "    for feature in features:\n",
    "        distance += (test_input[feature] - X_train[feature])**2\n",
    "    \n",
    "    # Calculate square root of sum of squared differences\n",
    "    X_train[\"distance\"] = distance**0.5\n",
    "    \n",
    "    # Get prediction based on k nearest neighbors\n",
    "    prediction = y_train[X_train[\"distance\"].nsmallest(n=k).index].mode()[0]\n",
    "    return prediction\n",
    "\n",
    "print(f\"Accuracy of the model: {model_accuracy:.2f}%\")"
   ]
  }
 ],
 "metadata": {
  "kernelspec": {
   "display_name": "Python 3",
   "language": "python",
   "name": "python3"
  },
  "language_info": {
   "codemirror_mode": {
    "name": "ipython",
    "version": 3
   },
   "file_extension": ".py",
   "mimetype": "text/x-python",
   "name": "python",
   "nbconvert_exporter": "python",
   "pygments_lexer": "ipython3",
   "version": "3.12.4"
  }
 },
 "nbformat": 4,
 "nbformat_minor": 2
}
